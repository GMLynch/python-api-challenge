{
 "cells": [
  {
   "cell_type": "markdown",
   "metadata": {},
   "source": [
    "# VacationPy\n",
    "----\n",
    "\n",
    "#### Note\n",
    "* Instructions have been included for each segment. You do not have to follow them exactly, but they are included to help you think through the steps."
   ]
  },
  {
   "cell_type": "code",
   "execution_count": null,
   "metadata": {},
   "outputs": [],
   "source": [
    "# Dependencies and Setup\n",
    "import matplotlib.pyplot as plt\n",
    "import pandas as pd\n",
    "import numpy as np\n",
    "import requests\n",
    "import gmaps\n",
    "import os\n",
    "\n",
    "# Import API key\n",
    "from api_keys import g_key\n"
   ]
  },
  {
   "cell_type": "markdown",
   "metadata": {},
   "source": [
    "### Store Part I results into DataFrame\n",
    "* Load the csv exported in Part I to a DataFrame"
   ]
  },
  {
   "cell_type": "code",
   "execution_count": null,
   "metadata": {},
   "outputs": [],
   "source": [
    "weather_data = \"..output_data/WeatherPy/WeatherDataFrame.csv\"\n",
    "weather_data = pd.read_csv(weather_data)\n",
    "clean_weather_df = weather_data.dropna()\n",
    "del clean_weather_df[\"Unnamed: 0\"]\n",
    "clean_weather_df.head()"
   ]
  },
  {
   "cell_type": "markdown",
   "metadata": {},
   "source": [
    "### Humidity Heatmap\n",
    "* Configure gmaps.\n",
    "* Use the Lat and Lng as locations and Humidity as the weight.\n",
    "* Add Heatmap layer to map."
   ]
  },
  {
   "cell_type": "code",
   "execution_count": null,
   "metadata": {},
   "outputs": [],
   "source": [
    "gmaps.configure(api_key=g_key)\n",
    "locations = clean_weather_df[[\"Lat\", \"Lng\"]]\n",
    "\n",
    "humidity = clean_weather_df[\"Humidity\"].astype(float)\n"
   ]
  },
  {
   "cell_type": "code",
   "execution_count": null,
   "metadata": {},
   "outputs": [],
   "source": [
    "fig = gmaps.figure()\n",
    "heat = gmaps.heatmap_layer(locations, weights=humidity, dissipating=False, max_intensity=100, point_radius=2)\n",
    "fig.add_layer(heat)\n",
    "sav.fig (\"HumidityHeatmap.png\")"
   ]
  },
  {
   "cell_type": "markdown",
   "metadata": {},
   "source": [
    "### Create new DataFrame fitting weather criteria\n",
    "* Narrow down the cities to fit weather conditions.\n",
    "* Drop any rows will null values."
   ]
  },
  {
   "cell_type": "code",
   "execution_count": null,
   "metadata": {},
   "outputs": [],
   "source": [
    "#remove irrelevant values\n",
    "zeroclouds = clean_weather_df[clean_weather_df[\"Cloudiness\"] == 0]\n",
    "tempabove70 = zeroclouds[zeroclouds[\"Max Temp\"] > 70]\n",
    "tempbelow80 = tempabove70[tempabove70[\"Max Temp\"] < 80]\n",
    "speedbelow10 = tempbelow80[tempbelow80[\"Wind Speed\"] < 10]\n",
    "speedbelow10 = clean_vacation_df\n",
    "clean_vacation_df = vacation.reset_index()\n",
    "del clean_vacation_df[\"index\"]\n",
    "clean_vacation.head(20)"
   ]
  },
  {
   "cell_type": "code",
   "execution_count": null,
   "metadata": {},
   "outputs": [],
   "source": [
    "vac_loc =clean_vacation_df[[\"Lat\", \"Lng\"]]\n",
    "vac_humid =clean_vacation_df[\"Humidity\"].astype(float)\n",
    "vacation_fig = gmaps.figure()\n",
    "vac_heat = gmaps.heatmap_layer(vac_loc, weights=vac_humid, dissipating=False, max_intensity=50, point_radius=2.5)\n",
    "\n",
    "vacation_fig"
   ]
  },
  {
   "cell_type": "markdown",
   "metadata": {},
   "source": [
    "### Hotel Map\n",
    "* Store into variable named `hotel_df`.\n",
    "* Add a \"Hotel Name\" column to the DataFrame.\n",
    "* Set parameters to search for hotels with 5000 meters.\n",
    "* Hit the Google Places API for each city's coordinates.\n",
    "* Store the first Hotel result into the DataFrame.\n",
    "* Plot markers on top of the heatmap."
   ]
  },
  {
   "cell_type": "code",
   "execution_count": null,
   "metadata": {},
   "outputs": [],
   "source": [
    "hotels =[]\n",
    "\n",
    "for city in range(len(clean_vacation_df[\"City\"])):\n",
    "    lat = clean_vacation_df.loc[city][\"Lat\"]\n",
    "    lng = clean_vacation_df.loc[city][\"Lng\"]\n",
    "    city_coords = f\"{lat}, {lng}\n",
    "    \n",
    "    params ={\n",
    "        \"location\": city_coords,\n",
    "        \"types\": \"lodging\",\n",
    "        \"radius\": 5000,\n",
    "        \"key\": g_key\n",
    "    }\n",
    "    \n",
    "    url = \"https://maps/googleapis.com/maps/api/place/nearbysearh/json\"\n",
    "    request = requests.get(url, params=params)\n",
    "    response = request.json()\n",
    "    \n",
    "    try:\n",
    "        hotels.append(response[\"results\"][0][\"name\"])\n",
    "    except:\n",
    "        hotels.append(\"Nearest hotel not found\")\n",
    "clean_vacation_df[\"Nearest Hotel\"] = hotels\n",
    "clean_vacation_df. head()"
   ]
  },
  {
   "cell_type": "code",
   "execution_count": null,
   "metadata": {},
   "outputs": [],
   "source": [
    "# NOTE: Do not change any of the code in this cell\n",
    "\n",
    "# Using the template add the hotel marks to the heatmap\n",
    "info_box_template = \"\"\"\n",
    "<dl>\n",
    "<dt>Name</dt><dd>{Hotel Name}</dd>\n",
    "<dt>City</dt><dd>{City}</dd>\n",
    "<dt>Country</dt><dd>{Country}</dd>\n",
    "</dl>\n",
    "\"\"\"\n",
    "# Store the DataFrame Row\n",
    "# NOTE: be sure to update with your DataFrame name\n",
    "hotel_info = [info_box_template.format(**row) for index, row in narrowed_city_df.iterrows()]\n",
    "locations = hotel_df[[\"Lat\", \"Lng\"]]"
   ]
  },
  {
   "cell_type": "code",
   "execution_count": null,
   "metadata": {},
   "outputs": [],
   "source": [
    "# Add marker layer ontop of heat map\n",
    "addmarkers = gmaps.marker_layer(locations, info_box_contect= [f\"Nearest Hotel: {hotel} for hotel in hotels])\n",
    "\n",
    "# Display Map\n",
    "vac_fig                                                              "
   ]
  }
 ],
 "metadata": {
  "kernelspec": {
   "display_name": "Python 3",
   "language": "python",
   "name": "python3"
  },
  "language_info": {
   "codemirror_mode": {
    "name": "ipython",
    "version": 3
   },
   "file_extension": ".py",
   "mimetype": "text/x-python",
   "name": "python",
   "nbconvert_exporter": "python",
   "pygments_lexer": "ipython3",
   "version": "3.6.10"
  },
  "latex_envs": {
   "LaTeX_envs_menu_present": true,
   "autoclose": false,
   "autocomplete": true,
   "bibliofile": "biblio.bib",
   "cite_by": "apalike",
   "current_citInitial": 1,
   "eqLabelWithNumbers": true,
   "eqNumInitial": 1,
   "hotkeys": {
    "equation": "Ctrl-E",
    "itemize": "Ctrl-I"
   },
   "labels_anchors": false,
   "latex_user_defs": false,
   "report_style_numbering": false,
   "user_envs_cfg": false
  }
 },
 "nbformat": 4,
 "nbformat_minor": 2
}
